{
 "cells": [
  {
   "cell_type": "code",
   "execution_count": 1,
   "metadata": {},
   "outputs": [],
   "source": [
    "class _node:\n",
    "    __slots__='_element','_next'\n",
    "    \n",
    "    def __init__(self,element,next):\n",
    "        self._element=element\n",
    "        self._next=next"
   ]
  },
  {
   "cell_type": "code",
   "execution_count": 2,
   "metadata": {},
   "outputs": [],
   "source": [
    "class linkedlist:\n",
    "    \n",
    "    def __init__(self):\n",
    "        self._head=None\n",
    "        self._tail=None\n",
    "        self._size=0\n",
    "    \n",
    "    def __len__(self):\n",
    "        return self._size\n",
    "    \n",
    "    def isEmpty(self):\n",
    "        return self._size==0\n",
    "    \n",
    "    def display(self):\n",
    "        p=self._head\n",
    "        i=0\n",
    "        while(i<len(self)):\n",
    "            print(p._element,end=\" \")\n",
    "            p=p._next\n",
    "            i+=1\n",
    "        print()\n",
    "    \n",
    "    def addLast(self,e):\n",
    "        newest=_node(e,None)\n",
    "        if self.isEmpty():\n",
    "            newest._next=newest\n",
    "            self._head=newest\n",
    "        else:\n",
    "            newest._next=self._tail._next\n",
    "            self._tail._next=newest\n",
    "        self._tail=newest\n",
    "        self._size+=1\n",
    "    "
   ]
  },
  {
   "cell_type": "code",
   "execution_count": 4,
   "metadata": {},
   "outputs": [],
   "source": [
    "l=linkedlist()\n",
    "l.addLast(0)"
   ]
  },
  {
   "cell_type": "code",
   "execution_count": 5,
   "metadata": {},
   "outputs": [],
   "source": [
    "l.addLast(1)"
   ]
  },
  {
   "cell_type": "code",
   "execution_count": 6,
   "metadata": {},
   "outputs": [],
   "source": [
    "l.addLast (2)"
   ]
  },
  {
   "cell_type": "code",
   "execution_count": 7,
   "metadata": {},
   "outputs": [
    {
     "name": "stdout",
     "output_type": "stream",
     "text": [
      "0 1 2 \n"
     ]
    }
   ],
   "source": [
    "l.display()"
   ]
  },
  {
   "cell_type": "code",
   "execution_count": 8,
   "metadata": {},
   "outputs": [
    {
     "data": {
      "text/plain": [
       "3"
      ]
     },
     "execution_count": 8,
     "metadata": {},
     "output_type": "execute_result"
    }
   ],
   "source": [
    "len(l)"
   ]
  },
  {
   "cell_type": "code",
   "execution_count": null,
   "metadata": {},
   "outputs": [],
   "source": []
  }
 ],
 "metadata": {
  "kernelspec": {
   "display_name": "Python 3",
   "language": "python",
   "name": "python3"
  },
  "language_info": {
   "codemirror_mode": {
    "name": "ipython",
    "version": 3
   },
   "file_extension": ".py",
   "mimetype": "text/x-python",
   "name": "python",
   "nbconvert_exporter": "python",
   "pygments_lexer": "ipython3",
   "version": "3.8.3"
  }
 },
 "nbformat": 4,
 "nbformat_minor": 4
}
